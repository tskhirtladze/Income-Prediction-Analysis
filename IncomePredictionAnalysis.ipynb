{
  "nbformat": 4,
  "nbformat_minor": 0,
  "metadata": {
    "colab": {
      "provenance": []
    },
    "kernelspec": {
      "name": "python3",
      "display_name": "Python 3"
    },
    "language_info": {
      "name": "python"
    }
  },
  "cells": [
    {
      "cell_type": "markdown",
      "source": [
        "# Income Prediction Analysis\n",
        "\n",
        "Analyze the UCI Adult Income dataset to build a predictive model for income classification, and uncover insights into the factors that influence earning more or less than $50,000."
      ],
      "metadata": {
        "id": "hfP1y4oDqOCr"
      }
    },
    {
      "cell_type": "markdown",
      "source": [
        "## Project setup"
      ],
      "metadata": {
        "id": "iFUh8U8P5aDk"
      }
    },
    {
      "cell_type": "markdown",
      "source": [
        "Installing packages:"
      ],
      "metadata": {
        "id": "iniWDp6B5kNk"
      }
    },
    {
      "cell_type": "code",
      "source": [
        "!pip install pandas numpy matplotlib seaborn scikit-learn jupyter faker"
      ],
      "metadata": {
        "id": "RvWgWeX3qdBd"
      },
      "execution_count": null,
      "outputs": []
    },
    {
      "cell_type": "markdown",
      "source": [
        "Import necessary modules"
      ],
      "metadata": {
        "id": "gdvSosDR3t_J"
      }
    },
    {
      "cell_type": "code",
      "source": [
        "import pandas as pd\n",
        "import numpy as np\n",
        "from faker import Faker\n",
        "import seaborn as sns\n",
        "import matplotlib.pyplot as plt\n",
        "from sklearn.preprocessing import LabelEncoder\n",
        "from sklearn.model_selection import train_test_split\n",
        "from sklearn.ensemble import RandomForestClassifier\n",
        "from sklearn.metrics import accuracy_score, classification_report, confusion_matrix"
      ],
      "metadata": {
        "id": "MCXiAtMG30st"
      },
      "execution_count": null,
      "outputs": []
    },
    {
      "cell_type": "markdown",
      "source": [
        "## Data Exploration"
      ],
      "metadata": {
        "id": "BAlb0Zax6AiW"
      }
    },
    {
      "cell_type": "markdown",
      "source": [
        "Create dataframe"
      ],
      "metadata": {
        "id": "2J8SSszk3uIH"
      }
    },
    {
      "cell_type": "code",
      "execution_count": null,
      "metadata": {
        "id": "jpdxViklqHTG"
      },
      "outputs": [],
      "source": [
        "\n",
        "# Initialize Faker\n",
        "fake = Faker()\n",
        "\n",
        "# Define the number of rows\n",
        "num_rows = 4000\n",
        "\n",
        "# Generate the dummy data\n",
        "data = {\n",
        "    'Age': np.random.randint(18, 70, size=num_rows),\n",
        "    'Workclass': np.random.choice(['Private', 'Self-emp', 'Government', 'Unemployed', 'Unknown'], size=num_rows),\n",
        "    'fnlwgt': np.random.randint(10000, 1000000, size=num_rows),\n",
        "    'Education': np.random.choice(['Bachelors', 'Masters', 'PhD', 'HS-grad', 'Assoc-acdm', 'Assoc-voc', '9th', '7th-8th', '12th', 'Doctorate', 'Prof-school', 'Some-college'], size=num_rows),\n",
        "    'EducationNum': np.random.randint(1, 16, size=num_rows),\n",
        "    'MaritalStatus': np.random.choice(['Married-civ-spouse', 'Divorced', 'Never-married', 'Separated', 'Widowed', 'Married-spouse-absent', 'Married-AF-spouse'], size=num_rows),\n",
        "    'Occupation': np.random.choice(['Tech-support', 'Craft-repair', 'Other-service', 'Sales', 'Exec-managerial', 'Prof-specialty', 'Handlers-cleaners', 'Machine-op-inspct', 'Adm-clerical', 'Farming-fishing', 'Transport-moving', 'Priv-house-serv', 'Protective-serv', 'Armed-Forces'], size=num_rows),\n",
        "    'Relationship': np.random.choice(['Wife', 'Own-child', 'Husband', 'Not-in-family', 'Other-relative', 'Unmarried'], size=num_rows),\n",
        "    'Race': np.random.choice(['White', 'Asian-Pac-Islander', 'Amer-Indian-Eskimo', 'Other', 'Black'], size=num_rows),\n",
        "    'Sex': np.random.choice(['Male', 'Female'], size=num_rows),\n",
        "    'HoursPerWeek': np.random.randint(1, 99, size=num_rows),\n",
        "    'NativeCountry': np.random.choice(['United-States', 'Cambodia', 'England', 'Puerto-Rico', 'Canada', 'Germany', 'Outlying-US(Guam-USVI-etc)', 'India', 'Japan', 'Greece', 'South', 'China', 'Cuba', 'Iran', 'Honduras', 'Philippines', 'Italy', 'Poland', 'Jamaica', 'Vietnam', 'Mexico', 'Brazil', 'Portugal', 'Ireland', 'France', 'Dominican-Republic', 'Laos', 'Ecuador', 'Taiwan', 'Haiti', 'Columbia', 'Hungary', 'Guatemala', 'Nicaragua', 'Scotland', 'Thailand', 'Yugoslavia', 'El-Salvador', 'Trinadad&Tobago', 'Peru', 'Hong', 'Holand-Netherlands'], size=num_rows),\n",
        "    'Income': np.random.choice(['<=50K', '>50K'], size=num_rows)\n",
        "}\n",
        "\n",
        "# Create DataFrame\n",
        "df = pd.DataFrame(data)\n",
        "\n",
        "# Save to CSV\n",
        "df.to_csv('dummy_income_data.csv', index=False)\n",
        "\n",
        "print(\"Dummy data created and saved to 'dummy_income_data.csv'\")\n"
      ]
    },
    {
      "cell_type": "markdown",
      "source": [
        "Explore the data"
      ],
      "metadata": {
        "id": "GNWGNufT2QM6"
      }
    },
    {
      "cell_type": "code",
      "source": [
        "# Display basic information\n",
        "print(df.info())\n",
        "print(df.describe())\n"
      ],
      "metadata": {
        "id": "xuLJxwYI2TYM"
      },
      "execution_count": null,
      "outputs": []
    },
    {
      "cell_type": "code",
      "source": [
        "df.head(10)"
      ],
      "metadata": {
        "id": "UeIb9YQHqkGw"
      },
      "execution_count": null,
      "outputs": []
    },
    {
      "cell_type": "markdown",
      "source": [
        "Check for missing values:"
      ],
      "metadata": {
        "id": "wzSZ_-lX4CGR"
      }
    },
    {
      "cell_type": "code",
      "source": [
        "print(df.isnull().sum())"
      ],
      "metadata": {
        "id": "Gg65hZt34JB5"
      },
      "execution_count": null,
      "outputs": []
    },
    {
      "cell_type": "markdown",
      "source": [
        "Visualize the data:"
      ],
      "metadata": {
        "id": "mWLNot1T5Htt"
      }
    },
    {
      "cell_type": "code",
      "source": [
        "\n",
        "# Plot income distribution by sex\n",
        "sns.countplot(x='Sex', hue='Income', data=df)\n",
        "plt.title('Income Distribution by Sex')\n",
        "plt.show()\n",
        "\n",
        "# Plot income by education level\n",
        "plt.figure(figsize=(12, 6))\n",
        "sns.countplot(y='Education', hue='Income', data=df)\n",
        "plt.title('Income by Education Level')\n",
        "plt.show()\n"
      ],
      "metadata": {
        "id": "0uss8Ef34Ss1"
      },
      "execution_count": null,
      "outputs": []
    },
    {
      "cell_type": "markdown",
      "source": [
        "## Data Preprocessing"
      ],
      "metadata": {
        "id": "5PkYglTl6M-m"
      }
    },
    {
      "cell_type": "markdown",
      "source": [
        "Handle missing values:"
      ],
      "metadata": {
        "id": "W4GEMV4Z6Pe4"
      }
    },
    {
      "cell_type": "code",
      "source": [
        "# Drop rows with missing values\n",
        "df.dropna(inplace=True)\n"
      ],
      "metadata": {
        "id": "kUZq98P26R2-"
      },
      "execution_count": null,
      "outputs": []
    },
    {
      "cell_type": "markdown",
      "source": [
        "Before building a predictive model, we need to preprocess the data. This involves:\n",
        "\n",
        "1. Encoding categorical variables (since most machine learning algorithms require numerical inputs)\n",
        "\n",
        "2. Splitting the data into training and testing sets"
      ],
      "metadata": {
        "id": "En-Yvt7u6W7l"
      }
    },
    {
      "cell_type": "code",
      "source": [
        "# Encode categorical variables\n",
        "\n",
        "encoder = LabelEncoder()\n",
        "df['Workclass'] = encoder.fit_transform(df['Workclass'])\n",
        "df['Education'] = encoder.fit_transform(df['Education'])\n",
        "df['MaritalStatus'] = encoder.fit_transform(df['MaritalStatus'])\n",
        "df['Occupation'] = encoder.fit_transform(df['Occupation'])\n",
        "df['Relationship'] = encoder.fit_transform(df['Relationship'])\n",
        "df['Race'] = encoder.fit_transform(df['Race'])\n",
        "df['Sex'] = encoder.fit_transform(df['Sex'])\n",
        "df['NativeCountry'] = encoder.fit_transform(df['NativeCountry'])\n",
        "df['Income'] = df['Income'].map({'<=50K': 0, '>50K': 1})\n",
        "\n",
        "# Split data into features and target\n",
        "X = df.drop('Income', axis=1)\n",
        "y = df['Income']\n",
        "\n",
        "# Split into training and testing sets\n",
        "X_train, X_test, y_train, y_test = train_test_split(X, y, test_size=0.2, random_state=42)\n"
      ],
      "metadata": {
        "id": "mAfizlO378cL"
      },
      "execution_count": null,
      "outputs": []
    },
    {
      "cell_type": "markdown",
      "source": [
        "## Build and Evaluate a Predictive Model\n",
        "Now, let's build a predictive model. For simplicity, we'll use a RandomForestClassifier. You can choose other classifiers or even try different models to see which performs best."
      ],
      "metadata": {
        "id": "LX6L5w9m9Jws"
      }
    },
    {
      "cell_type": "code",
      "source": [
        "# Initialize the model\n",
        "model = RandomForestClassifier(random_state=42)\n",
        "\n",
        "# Train the model\n",
        "model.fit(X_train, y_train)\n",
        "\n",
        "# Predict on the test set\n",
        "y_pred = model.predict(X_test)\n",
        "\n",
        "# Evaluate the model\n",
        "accuracy = accuracy_score(y_test, y_pred)\n",
        "print(f'Accuracy: {accuracy:.2f}')\n",
        "\n",
        "# Classification report\n",
        "print(classification_report(y_test, y_pred))\n",
        "\n",
        "# Confusion matrix\n",
        "sns.heatmap(confusion_matrix(y_test, y_pred), annot=True, fmt='d')\n",
        "plt.title('Confusion Matrix')\n",
        "plt.xlabel('Predicted')\n",
        "plt.ylabel('Actual')\n",
        "plt.show()\n"
      ],
      "metadata": {
        "id": "tu-5IOG59Nl0"
      },
      "execution_count": null,
      "outputs": []
    },
    {
      "cell_type": "markdown",
      "source": [
        "## Interpret the Results\n"
      ],
      "metadata": {
        "id": "MZrhTyT2_Iik"
      }
    },
    {
      "cell_type": "markdown",
      "source": [
        "### Accuracy:\n",
        "\n",
        "The overall accuracy of the model is 0.48, which means the model correctly predicts the income level (<=50K or >50K) about 48% of the time. While accuracy gives us a general idea of model performance, it's essential to delve deeper into precision, recall, and F1-score to understand performance across different income categories."
      ],
      "metadata": {
        "id": "Ta074wEsDOzt"
      }
    },
    {
      "cell_type": "markdown",
      "source": [
        "### Precision, Recall, and F1-score:\n",
        "\n",
        "Class 0 (<=50K):\n",
        "\n",
        "Precision (0.48):\n",
        "\n",
        "Out of all instances predicted as <=50K, 48% are actually <=50K.\n",
        "Recall (0.56): Out of all instances that are actually <=50K, the model correctly identifies 56%.\n",
        "F1-score (0.52): The harmonic mean of precision and recall for <=50K.\n",
        "\n",
        "Class 1 (>50K):\n",
        "\n",
        "Precision (0.47):\n",
        "\n",
        "Out of all instances predicted as >50K, 47% are actually >50K.\n",
        "\n",
        "Recall (0.39):\n",
        "\n",
        "Out of all instances that are actually >50K, the model correctly identifies 39%.\n",
        "\n",
        "F1-score (0.43):\n",
        "\n",
        "The harmonic mean of precision and recall for >50K."
      ],
      "metadata": {
        "id": "pn5IGyoP_Mus"
      }
    },
    {
      "cell_type": "markdown",
      "source": [
        "### Interpretation of Precision, Recall, and F1-score:\n",
        "\n",
        "The precision for both income classes (<=50K and >50K) indicates that the model correctly identifies true positives (correct predictions) to some extent but not very strongly (both around 0.48-0.47).\n",
        "\n",
        "The recall values show that the model is somewhat better at identifying <=50K instances compared to >50K instances (56% vs. 39%).\n",
        "\n",
        "F1-scores, which balance precision and recall, are moderate but indicate room for improvement, especially for predicting >50K income."
      ],
      "metadata": {
        "id": "9x2xUjIB9m8y"
      }
    },
    {
      "cell_type": "markdown",
      "source": [
        "## Feature Importance\n",
        "Let's analyze the feature importance to understand which factors are influencing the model's predictions:"
      ],
      "metadata": {
        "id": "V2T73Qhh_qvZ"
      }
    },
    {
      "cell_type": "code",
      "source": [
        "# Feature importance\n",
        "feature_importance = model.feature_importances_\n",
        "features = X.columns\n",
        "importance_df = pd.DataFrame({'Feature': features, 'Importance': feature_importance})\n",
        "\n",
        "importance_df\n"
      ],
      "metadata": {
        "id": "6eEVvYRw_xsF"
      },
      "execution_count": null,
      "outputs": []
    },
    {
      "cell_type": "markdown",
      "source": [
        "## Interpretation of Feature Importance\n",
        "fnlwgt: This feature has the highest importance (0.140). However, fnlwgt (final weight) is typically a variable used in UCI Adult dataset as a weighting factor in sampling, rather than as a predictor of income directly. Its high importance here might be misleading due to the generated data or model specifics.\n",
        "\n",
        "HoursPerWeek: The number of hours worked per week (0.125) is crucial. Generally, individuals who work longer hours tend to have higher incomes, assuming hourly pay rates are stable.\n",
        "\n",
        "Age: Age (0.118) is also significant. Older individuals often earn more due to accumulated experience and career progression.\n",
        "\n",
        "NativeCountry: Native country (0.114) suggests that geographical location can influence income levels, likely due to varying economic conditions and opportunities across countries.\n",
        "\n",
        "EducationNum: Education level represented numerically (0.086) is critical. Higher education typically correlates with higher income levels.\n",
        "\n",
        "Occupation: Occupation (0.084) plays a substantial role. Certain professions are associated with higher incomes (e.g., managerial roles versus service jobs).\n",
        "\n",
        "Education: The categorical representation of education (0.083) also shows importance. Specific degrees or qualifications (e.g., PhD versus high school diploma) impact income potential.\n",
        "\n",
        "MaritalStatus: Marital status (0.065) may influence income, potentially due to joint incomes in married couples or stability in financial decisions.\n",
        "\n",
        "Relationship: Relationship status (0.059) indicates social and economic support networks, which can impact income stability.\n",
        "\n",
        "Race and Workclass: Race (0.054) and work class (0.051) also contribute, reflecting societal disparities and economic opportunities based on demographic and employment sectors.\n",
        "\n",
        "Sex: Finally, sex (0.021) shows the smallest impact among these features, but it's important to note that this could vary significantly in real-world datasets where gender disparities in income are often more pronounced."
      ],
      "metadata": {
        "id": "FPJfXsfMDGYK"
      }
    },
    {
      "cell_type": "code",
      "source": [
        "importance_df = importance_df.sort_values(by='Importance', ascending=False)\n",
        "\n",
        "# Plotting feature importance\n",
        "plt.figure(figsize=(10, 8))\n",
        "sns.barplot(x='Importance', y='Feature', data=importance_df)\n",
        "plt.title('Feature Importance')\n",
        "plt.xlabel('Importance')\n",
        "plt.ylabel('Feature')\n",
        "plt.show()\n"
      ],
      "metadata": {
        "id": "u9BLcRNPCJCs"
      },
      "execution_count": null,
      "outputs": []
    },
    {
      "cell_type": "markdown",
      "source": [
        "## Conclusion\n",
        "Understanding feature importance provides valuable insights into which factors most strongly influence income classification. These insights can guide further analysis, model refinement, and policy decisions aimed at addressing income disparities and enhancing economic opportunities based on demographic and socio-economic factors.\n",
        "\n",
        "In practical applications, considering these features carefully in predictive models can improve accuracy and fairness, ensuring that decisions based on income prediction models are robust and equitable."
      ],
      "metadata": {
        "id": "3YHt-ILFBUKl"
      }
    }
  ]
}